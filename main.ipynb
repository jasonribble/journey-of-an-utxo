{
 "cells": [
  {
   "cell_type": "markdown",
   "metadata": {},
   "source": [
    "What if we got real data?"
   ]
  },
  {
   "cell_type": "code",
   "execution_count": null,
   "metadata": {},
   "outputs": [],
   "source": [
    "import requests\n",
    "import json\n",
    "\n",
    "def get_latest_block():\n",
    "    public_node = \"https://blockstream.info/api\"\n",
    "\n",
    "    url = f\"{public_node}/blocks/tip/height\"\n",
    "    response = requests.get(url)\n",
    "    latest_block_height = response.text\n",
    "\n",
    "    url = f\"{public_node}/block-height/{latest_block_height}\"\n",
    "    response = requests.get(url)\n",
    "    latest_block_hash = response.text\n",
    "\n",
    "    url = f\"{public_node}/block/{latest_block_hash}\"\n",
    "    response = requests.get(url)\n",
    "    block_data = json.loads(response.text)\n",
    "\n",
    "    return block_data\n",
    "\n",
    "latest_block = get_latest_block()\n",
    "print(\"Latest Block Data:\", json.dumps(latest_block, indent=4))\n"
   ]
  }
 ],
 "metadata": {
  "kernelspec": {
   "display_name": "base",
   "language": "python",
   "name": "python3"
  },
  "language_info": {
   "codemirror_mode": {
    "name": "ipython",
    "version": 3
   },
   "file_extension": ".py",
   "mimetype": "text/x-python",
   "name": "python",
   "nbconvert_exporter": "python",
   "pygments_lexer": "ipython3",
   "version": "3.11.5"
  }
 },
 "nbformat": 4,
 "nbformat_minor": 2
}
