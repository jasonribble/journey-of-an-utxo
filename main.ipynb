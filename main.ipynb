{
 "cells": [
  {
   "cell_type": "markdown",
   "metadata": {},
   "source": [
    "What is a hash? \n",
    "What is SHA256?"
   ]
  },
  {
   "cell_type": "code",
   "execution_count": 29,
   "metadata": {},
   "outputs": [
    {
     "name": "stdout",
     "output_type": "stream",
     "text": [
      "ef2d127de37b942baad06145e54b0c619a1f22327b2ebbcfbec78f5564afe39d\n"
     ]
    }
   ],
   "source": [
    "import hashlib\n",
    "\n",
    "text = \"5\"\n",
    "hash_object = hashlib.sha256(text.encode())\n",
    "hash_hex = hash_object.hexdigest()\n",
    "\n",
    "print(hash_hex)"
   ]
  },
  {
   "cell_type": "markdown",
   "metadata": {},
   "source": [
    "What if we got real data?"
   ]
  },
  {
   "cell_type": "code",
   "execution_count": 30,
   "metadata": {},
   "outputs": [
    {
     "name": "stdout",
     "output_type": "stream",
     "text": [
      "Latest Block Data: {\n",
      "    \"id\": \"00000000000000000000be99fed21b5f148f3b49dc6e6e58c5476b5119e61c07\",\n",
      "    \"height\": 814897,\n",
      "    \"version\": 727924736,\n",
      "    \"timestamp\": 1698881371,\n",
      "    \"tx_count\": 3440,\n",
      "    \"size\": 1548530,\n",
      "    \"weight\": 3992669,\n",
      "    \"merkle_root\": \"d69d4e5e4ecac1fc1b1f330bed2150a841fd7cd0abfcc5122faf916326ab4e47\",\n",
      "    \"previousblockhash\": \"0000000000000000000085ed626d3d8148a3cad675f93391435414ea28f64afb\",\n",
      "    \"mediantime\": 1698877936,\n",
      "    \"nonce\": 396383492,\n",
      "    \"bits\": 386171284,\n",
      "    \"difficulty\": 62463471666732\n",
      "}\n"
     ]
    }
   ],
   "source": [
    "import requests\n",
    "import json\n",
    "\n",
    "def get_latest_block():\n",
    "    public_node = \"https://blockstream.info/api\"\n",
    "\n",
    "    url = f\"{public_node}/blocks/tip/height\"\n",
    "    response = requests.get(url)\n",
    "    latest_block_height = response.text\n",
    "\n",
    "    url = f\"{public_node}/block-height/{latest_block_height}\"\n",
    "    response = requests.get(url)\n",
    "    latest_block_hash = response.text\n",
    "\n",
    "    url = f\"{public_node}/block/{latest_block_hash}\"\n",
    "    response = requests.get(url)\n",
    "    block_data = json.loads(response.text)\n",
    "\n",
    "    return block_data\n",
    "\n",
    "latest_block = get_latest_block()\n",
    "print(\"Latest Block Data:\", json.dumps(latest_block, indent=4))\n"
   ]
  },
  {
   "cell_type": "code",
   "execution_count": 24,
   "metadata": {},
   "outputs": [
    {
     "name": "stdout",
     "output_type": "stream",
     "text": [
      "Nonce found: 6177\n",
      "Hash: 00010f155d915bc21995ece874de158ffa1e44fc84a6532883f92532bde2d383\n"
     ]
    }
   ],
   "source": [
    "import hashlib\n",
    "import json\n",
    "\n",
    "def proof_of_work(previous_block_hash, current_block_data):\n",
    "    nonce = 0\n",
    "    while True:\n",
    "        data_string = f\"{previous_block_hash}{json.dumps(current_block_data)}{nonce}\"\n",
    "        data_bytes = data_string.encode()\n",
    "\n",
    "        hash_object = hashlib.sha256(data_bytes)\n",
    "        hash_hex = hash_object.hexdigest()\n",
    "\n",
    "        if hash_hex[:3] == \"000\":\n",
    "            print(f\"Nonce found: {nonce}\")\n",
    "            print(f\"Hash: {hash_hex}\")\n",
    "            break\n",
    "\n",
    "        nonce += 1\n",
    "\n",
    "# Previous block hash and current block data\n",
    "previous_block_hash = get_latest_block()\n",
    "current_block_data = {\n",
    "    \"sender\": \"Alice\",\n",
    "    \"receiver\": \"Bob\",\n",
    "    \"amount\": 50\n",
    "}\n",
    "\n",
    "# Run the proof of work function\n",
    "proof_of_work(previous_block_hash, current_block_data)"
   ]
  },
  {
   "cell_type": "markdown",
   "metadata": {},
   "source": [
    "What if we changed the number of zeros in the start of the?"
   ]
  },
  {
   "cell_type": "markdown",
   "metadata": {},
   "source": [
    "Adjusted ever 2016 block, the bitcoin network difficult changes to adjust for the amount of hash rate that is in the network to have a to have each block be created approximately every 10 minutes. \n",
    "\n",
    "difficulty = difficulty_1_target / current_target \n",
    "\n",
    "(Difficulty)[https://en.bitcoin.it/wiki/Difficulty]"
   ]
  }
 ],
 "metadata": {
  "kernelspec": {
   "display_name": "base",
   "language": "python",
   "name": "python3"
  },
  "language_info": {
   "codemirror_mode": {
    "name": "ipython",
    "version": 3
   },
   "file_extension": ".py",
   "mimetype": "text/x-python",
   "name": "python",
   "nbconvert_exporter": "python",
   "pygments_lexer": "ipython3",
   "version": "3.11.5"
  }
 },
 "nbformat": 4,
 "nbformat_minor": 2
}
