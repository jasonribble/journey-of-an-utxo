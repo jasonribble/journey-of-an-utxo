{
 "cells": [
  {
   "cell_type": "markdown",
   "metadata": {},
   "source": [
    "# Reminder: This is not really how bitcoin works"
   ]
  },
  {
   "cell_type": "code",
   "execution_count": null,
   "metadata": {},
   "outputs": [],
   "source": [
    "# Run me first!\n",
    "import hashlib\n",
    "import json\n",
    "block_815149_hash = \"000000000000000000040c606208a9c7f15ae0908dc6dddb9cd0ef6c0cf69681\""
   ]
  },
  {
   "cell_type": "markdown",
   "metadata": {},
   "source": [
    "What is a hash? "
   ]
  },
  {
   "cell_type": "code",
   "execution_count": null,
   "metadata": {},
   "outputs": [],
   "source": [
    "text = \"5\"\n",
    "hash_object = hashlib.sha256(text.encode())\n",
    "hash_hex = hash_object.hexdigest()\n",
    "\n",
    "print(hash_hex)"
   ]
  },
  {
   "cell_type": "markdown",
   "metadata": {},
   "source": [
    "What is SHA256? Why is it called SHA256? "
   ]
  },
  {
   "cell_type": "code",
   "execution_count": null,
   "metadata": {},
   "outputs": [],
   "source": [
    "def proof_of_work(previous_block_hash, current_block_data):\n",
    "    nonce = 0\n",
    "    while True:\n",
    "        data_string = f\"{previous_block_hash}{json.dumps(current_block_data)}{nonce}\"\n",
    "        data_bytes = data_string.encode()\n",
    "\n",
    "        hash_object = hashlib.sha256(data_bytes)\n",
    "        hash_hex = hash_object.hexdigest()\n",
    "\n",
    "        if hash_hex[:3] == \"000\":\n",
    "            print(f\"Nonce found: {nonce}\")\n",
    "            print(f\"Hash: {hash_hex}\")\n",
    "            break\n",
    "\n",
    "        nonce += 1\n",
    "\n",
    "# Previous block hash and current block data\n",
    "previous_block_hash = block_815149_hash\n",
    "example_block_header = {\n",
    "    \"id\": \"000000000000000000040c606208a9c7f15ae0908dc6dddb9cd0ef6c0cf69681\",\n",
    "    \"height\": 815149,\n",
    "    \"version\": 669589504,\n",
    "    \"timestamp\": 1699035929,\n",
    "    \"tx_count\": 4003,\n",
    "    \"size\": 1620657,\n",
    "    \"weight\": 3993483,\n",
    "    \"merkle_root\": \"c80cfb301cfe66f592efa71ff8f5492d85e8c6c81e88a6fa00331e39b64370f4\",\n",
    "    \"mediantime\": 1699031819,\n",
    "    \"nonce\": 2628672527,\n",
    "    \"bits\": 386171284,\n",
    "    \"difficulty\": 62463471666732\n",
    "}\n",
    "\n",
    "# Run the proof of work function\n",
    "proof_of_work(previous_block_hash, current_block_data)"
   ]
  },
  {
   "cell_type": "markdown",
   "metadata": {},
   "source": [
    "What if we changed the number of zeros in the start of the?"
   ]
  },
  {
   "cell_type": "markdown",
   "metadata": {},
   "source": [
    "Adjusted ever 2016 block, the bitcoin network difficult changes to adjust for the amount of hash rate that is in the network to have a to have each block be created approximately every 10 minutes. \n",
    "\n",
    "difficulty = difficulty_1_target / current_target \n",
    "\n",
    "(Difficulty)[https://en.bitcoin.it/wiki/Difficulty]"
   ]
  }
 ],
 "metadata": {
  "kernelspec": {
   "display_name": "Python 3",
   "language": "python",
   "name": "python3"
  },
  "language_info": {
   "codemirror_mode": {
    "name": "ipython",
    "version": 3
   },
   "file_extension": ".py",
   "mimetype": "text/x-python",
   "name": "python",
   "nbconvert_exporter": "python",
   "pygments_lexer": "ipython3",
   "version": "3.11.5"
  }
 },
 "nbformat": 4,
 "nbformat_minor": 2
}
